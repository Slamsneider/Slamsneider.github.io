{
  "nbformat": 4,
  "nbformat_minor": 0,
  "metadata": {
    "colab": {
      "provenance": [],
      "collapsed_sections": [
        "NO47mAC5iGH7",
        "oR95EPCwe_-B",
        "b5rDDPxrRAKa"
      ],
      "include_colab_link": true
    },
    "kernelspec": {
      "name": "python3",
      "display_name": "Python 3"
    },
    "language_info": {
      "name": "python"
    },
    "accelerator": "GPU",
    "gpuClass": "standard"
  },
  "cells": [
    {
      "cell_type": "markdown",
      "metadata": {
        "id": "view-in-github",
        "colab_type": "text"
      },
      "source": [
        "<a href=\"https://colab.research.google.com/github/Slamsneider/Slamsneider.github.io/blob/main/bark_sei.ipynb\" target=\"_parent\"><img src=\"https://colab.research.google.com/assets/colab-badge.svg\" alt=\"Open In Colab\"/></a>"
      ]
    },
    {
      "cell_type": "markdown",
      "source": [
        "## Start maskinen så den er klar"
      ],
      "metadata": {
        "id": "NO47mAC5iGH7"
      }
    },
    {
      "cell_type": "code",
      "source": [
        "# install bark as well as pytorch nightly to get blazing fast flash-attention\n",
        "!pip install git+https://github.com/suno-ai/bark.git && \\\n",
        "  pip uninstall -y torch torchvision torchaudio && \\\n",
        "  pip install --pre torch torchvision torchaudio --index-url https://download.pytorch.org/whl/nightly/cu118"
      ],
      "metadata": {
        "id": "8KV3klnr-lvo"
      },
      "execution_count": null,
      "outputs": []
    },
    {
      "cell_type": "code",
      "source": [
        "# Lille pause\n",
        "import time\n",
        "time.sleep(1)\n"
      ],
      "metadata": {
        "id": "mVXzL9grcuWE"
      },
      "execution_count": null,
      "outputs": []
    },
    {
      "cell_type": "code",
      "source": [
        "from bark import SAMPLE_RATE, generate_audio, preload_models\n",
        "from IPython.display import Audio\n",
        "\n",
        "preload_models()"
      ],
      "metadata": {
        "id": "t9Vlr3RRt6B9"
      },
      "execution_count": null,
      "outputs": []
    },
    {
      "cell_type": "markdown",
      "source": [
        "# Min text"
      ],
      "metadata": {
        "id": "oR95EPCwe_-B"
      }
    },
    {
      "cell_type": "code",
      "source": [
        "text_prompt = \"\"\"\n",
        "     Here I make an advanced program to read text aloud. And, uh — then \n",
        "     I hear [laughs]\n",
        "     that You are [laughs] using elevenlabs instead of my creation!\n",
        "\"\"\""
      ],
      "metadata": {
        "id": "KkAJzW4WY9CX"
      },
      "execution_count": null,
      "outputs": []
    },
    {
      "cell_type": "code",
      "source": [
        "audio_array = generate_audio(text_prompt)\n",
        "Audio(audio_array, rate=SAMPLE_RATE)"
      ],
      "metadata": {
        "id": "S3RBBKYzeuaj"
      },
      "execution_count": null,
      "outputs": []
    },
    {
      "cell_type": "code",
      "source": [
        "audio_array = generate_audio(text_prompt)\n",
        "Audio(audio_array, rate=SAMPLE_RATE)"
      ],
      "metadata": {
        "id": "NyYQ--3YksJY"
      },
      "execution_count": null,
      "outputs": []
    },
    {
      "cell_type": "code",
      "source": [
        "audio_array = generate_audio(text_prompt)\n",
        "Audio(audio_array, rate=SAMPLE_RATE)"
      ],
      "metadata": {
        "id": "IttLUWtrZTDf"
      },
      "execution_count": null,
      "outputs": []
    },
    {
      "cell_type": "code",
      "source": [
        "audio_array = generate_audio(text_prompt)\n",
        "Audio(audio_array, rate=SAMPLE_RATE)"
      ],
      "metadata": {
        "id": "Vnkddkz8ZTT2"
      },
      "execution_count": null,
      "outputs": []
    },
    {
      "cell_type": "code",
      "source": [
        "audio_array = generate_audio(text_prompt)\n",
        "Audio(audio_array, rate=SAMPLE_RATE)"
      ],
      "metadata": {
        "id": "NWEcAosEi7jo"
      },
      "execution_count": null,
      "outputs": []
    },
    {
      "cell_type": "markdown",
      "source": [
        "# Advanced examples"
      ],
      "metadata": {
        "id": "b5rDDPxrRAKa"
      }
    },
    {
      "cell_type": "code",
      "source": [
        "text_prompt = \"\"\"\n",
        "    Buenos días Miguel. Tu colega piensa que tu alemán es extremadamente malo. \n",
        "    But I suppose your english isn't terrible.\n",
        "\"\"\"\n",
        "audio_array = generate_audio(text_prompt)\n",
        "Audio(audio_array, rate=SAMPLE_RATE)"
      ],
      "metadata": {
        "id": "RnYiRaffReIW"
      },
      "execution_count": null,
      "outputs": []
    },
    {
      "cell_type": "code",
      "source": [
        "text_prompt = \"\"\"\n",
        "    WOMAN: I would like an oatmilk latte please.\n",
        "    MAN: Wow, that's expensive!\n",
        "\"\"\"\n",
        "audio_array = generate_audio(text_prompt)\n",
        "Audio(audio_array, rate=SAMPLE_RATE)"
      ],
      "metadata": {
        "id": "y2XOBRFhReDy"
      },
      "execution_count": null,
      "outputs": []
    },
    {
      "cell_type": "code",
      "source": [
        "text_prompt = \"\"\"\n",
        "    I have a silky smooth voice, and today I will tell you \n",
        "    about the exercise regimen of the common sloth.\n",
        "\"\"\"\n",
        "audio_array = generate_audio(text_prompt, history_prompt=\"v2/en_speaker_1\")\n",
        "Audio(audio_array, rate=SAMPLE_RATE)"
      ],
      "metadata": {
        "id": "6p153cqEmXLA"
      },
      "execution_count": null,
      "outputs": []
    },
    {
      "cell_type": "markdown",
      "source": [
        "#REF\n",
        "\n",
        "https://www.youtube.com/watch?v=w41-MUfxIWo&ab_channel=MarcEvanstein%2Fmusic%E2%80%A4py\n",
        "\n",
        "https://github.com/JonathanFly/bark\n",
        "\n"
      ],
      "metadata": {
        "id": "tEWwkNu9afwG"
      }
    }
  ]
}